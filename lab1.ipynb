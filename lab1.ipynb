{
 "cells": [
  {
   "cell_type": "code",
   "execution_count": 4,
   "metadata": {},
   "outputs": [],
   "source": [
    "import maze_l1 as mz\n",
    "import numpy as np"
   ]
  },
  {
   "cell_type": "markdown",
   "metadata": {},
   "source": [
    "## MDP formulation\n",
    "\n",
    "#### State space $\\mathcal{S}$\n",
    "Within this model there are two objects that are continuously moving. Namely the player and the minotaur. The player can move in any direction (up, down, left, right) or stay in the same position. The minotaur can move in any direction (up, down, left, right). The state space is the set of all possible positions of the player and the minotaur in the maze. \n",
    "\n",
    "$$\\mathcal{S} = \\big\\lbrace ((i,j), (k,l)):\\textrm{such that the cell\n",
    "} (i,j) \\textrm{ is not an obstacle and (k,l) is not a boundary}\\big\\rbrace.$$\n",
    "\n",
    "#### Action space $\\mathcal{A}$\n",
    "We cannot control the minotaur, but we can control the player. Therefore we have five options: move `left`, `right`, `down`, `up` and `stay`. Just like lab0 we allow the player to move in all directions, and move into a \"wall\", but the state will not change and the reward will be a large negative number to prevent this from happening. \n",
    "\n",
    "$$\\mathcal{A} = \\lbrace \\textrm{up}, \\textrm{ down}, \\textrm{ left}, \\textrm{ right}, \\textrm{ stay} \\rbrace.$$\n",
    "\n",
    "#### Transition probabilities $\\mathcal{P}$\n",
    "\n",
    "- At a state (or position) $s$ taking any action will always lead to a different state (or position) $s'$, then $\\mathbb{P}(s' \\vert s, a) = \\frac{1}{m}$. This is due to the minotaur always being able to move and it not going into the walls. Note that it depends on the amount of possible moves for the minotaur, called $m$.\n",
    "\n",
    "#### Rewards $\\mathcal{R}$\n",
    "The objective of the player is to find the exit of the maze while avoiding the obstacles and the minotaur.    \n",
    "   - If at state $s$, taking action $a$, leads to a wall or an obstacle then $r(s,a) = -\\infty$\n",
    "   - If at state $s$, taking action $a$, leads to the minotaur then $r(s,a) = -\\infty$\n",
    "   - If at state $s$, taking action $a$, leads to some other position in the maze that is not the exit nor a wall nor an obstacle, then $r(s, a) = -1$. \n",
    "   - If at state $s$, taking action $a$, leads to the exit then $r(s ,a) = 0$. \n"
   ]
  },
  {
   "cell_type": "code",
   "execution_count": 7,
   "metadata": {},
   "outputs": [
    {
     "ename": "AttributeError",
     "evalue": "module 'maze_l1' has no attribute 'draw_'",
     "output_type": "error",
     "traceback": [
      "\u001b[1;31m---------------------------------------------------------------------------\u001b[0m",
      "\u001b[1;31mAttributeError\u001b[0m                            Traceback (most recent call last)",
      "\u001b[1;32me:\\OneDrive\\Documenten\\GitHub\\Lab-1-Reinforcement-Learning\\lab1.ipynb Cell 3\u001b[0m line \u001b[0;36m1\n\u001b[0;32m      <a href='vscode-notebook-cell:/e%3A/OneDrive/Documenten/GitHub/Lab-1-Reinforcement-Learning/lab1.ipynb#W2sZmlsZQ%3D%3D?line=8'>9</a>\u001b[0m maze \u001b[39m=\u001b[39m np\u001b[39m.\u001b[39marray([\n\u001b[0;32m     <a href='vscode-notebook-cell:/e%3A/OneDrive/Documenten/GitHub/Lab-1-Reinforcement-Learning/lab1.ipynb#W2sZmlsZQ%3D%3D?line=9'>10</a>\u001b[0m     [\u001b[39m3\u001b[39m, \u001b[39m0\u001b[39m, \u001b[39m1\u001b[39m, \u001b[39m0\u001b[39m, \u001b[39m0\u001b[39m, \u001b[39m0\u001b[39m, \u001b[39m0\u001b[39m],\n\u001b[0;32m     <a href='vscode-notebook-cell:/e%3A/OneDrive/Documenten/GitHub/Lab-1-Reinforcement-Learning/lab1.ipynb#W2sZmlsZQ%3D%3D?line=10'>11</a>\u001b[0m     [\u001b[39m0\u001b[39m, \u001b[39m0\u001b[39m, \u001b[39m1\u001b[39m, \u001b[39m0\u001b[39m, \u001b[39m0\u001b[39m, \u001b[39m4\u001b[39m, \u001b[39m0\u001b[39m],\n\u001b[1;32m   (...)\u001b[0m\n\u001b[0;32m     <a href='vscode-notebook-cell:/e%3A/OneDrive/Documenten/GitHub/Lab-1-Reinforcement-Learning/lab1.ipynb#W2sZmlsZQ%3D%3D?line=14'>15</a>\u001b[0m     [\u001b[39m0\u001b[39m, \u001b[39m0\u001b[39m, \u001b[39m0\u001b[39m, \u001b[39m0\u001b[39m, \u001b[39m0\u001b[39m, \u001b[39m2\u001b[39m, \u001b[39m0\u001b[39m]\n\u001b[0;32m     <a href='vscode-notebook-cell:/e%3A/OneDrive/Documenten/GitHub/Lab-1-Reinforcement-Learning/lab1.ipynb#W2sZmlsZQ%3D%3D?line=15'>16</a>\u001b[0m ])\n\u001b[0;32m     <a href='vscode-notebook-cell:/e%3A/OneDrive/Documenten/GitHub/Lab-1-Reinforcement-Learning/lab1.ipynb#W2sZmlsZQ%3D%3D?line=17'>18</a>\u001b[0m env \u001b[39m=\u001b[39m mz\u001b[39m.\u001b[39mMaze(maze)\n\u001b[1;32m---> <a href='vscode-notebook-cell:/e%3A/OneDrive/Documenten/GitHub/Lab-1-Reinforcement-Learning/lab1.ipynb#W2sZmlsZQ%3D%3D?line=18'>19</a>\u001b[0m mz\u001b[39m.\u001b[39;49mdraw_\n\u001b[0;32m     <a href='vscode-notebook-cell:/e%3A/OneDrive/Documenten/GitHub/Lab-1-Reinforcement-Learning/lab1.ipynb#W2sZmlsZQ%3D%3D?line=19'>20</a>\u001b[0m maze(maze)\n",
      "\u001b[1;31mAttributeError\u001b[0m: module 'maze_l1' has no attribute 'draw_'"
     ]
    }
   ],
   "source": [
    "\"\"\"This is the maze, where the following numbers correspond to the following objects:\n",
    "0 = empty cell      -> white\n",
    "1 = obstacle        -> black\n",
    "2 = end             -> light purple\n",
    "3 = start           -> light green\n",
    "4 = minotaur        -> light red\n",
    "\"\"\"\n",
    "\n",
    "maze = np.array([\n",
    "    [3, 0, 1, 0, 0, 0, 0],\n",
    "    [0, 0, 1, 0, 0, 4, 0],\n",
    "    [0, 0, 1, 0, 0, 0, 0],\n",
    "    [0, 0, 0, 0, 0, 0, 0],\n",
    "    [1, 1, 1, 1, 1, 1, 0],\n",
    "    [0, 0, 0, 0, 0, 2, 0]\n",
    "])\n",
    "\n",
    "env = mz.Maze(maze)\n",
    "mz.draw_\n",
    "maze(maze)"
   ]
  },
  {
   "cell_type": "code",
   "execution_count": 6,
   "metadata": {},
   "outputs": [
    {
     "ename": "NameError",
     "evalue": "name 'maze' is not defined",
     "output_type": "error",
     "traceback": [
      "\u001b[1;31m---------------------------------------------------------------------------\u001b[0m",
      "\u001b[1;31mNameError\u001b[0m                                 Traceback (most recent call last)",
      "\u001b[1;32me:\\OneDrive\\Documenten\\GitHub\\Lab-1-Reinforcement-Learning\\lab1.ipynb Cell 4\u001b[0m line \u001b[0;36m4\n\u001b[0;32m      <a href='vscode-notebook-cell:/e%3A/OneDrive/Documenten/GitHub/Lab-1-Reinforcement-Learning/lab1.ipynb#W3sZmlsZQ%3D%3D?line=1'>2</a>\u001b[0m horizon \u001b[39m=\u001b[39m \u001b[39m30\u001b[39m\n\u001b[0;32m      <a href='vscode-notebook-cell:/e%3A/OneDrive/Documenten/GitHub/Lab-1-Reinforcement-Learning/lab1.ipynb#W3sZmlsZQ%3D%3D?line=2'>3</a>\u001b[0m \u001b[39m# Solve the MDP problem with dynamic programming \u001b[39;00m\n\u001b[1;32m----> <a href='vscode-notebook-cell:/e%3A/OneDrive/Documenten/GitHub/Lab-1-Reinforcement-Learning/lab1.ipynb#W3sZmlsZQ%3D%3D?line=3'>4</a>\u001b[0m V, policy\u001b[39m=\u001b[39m mz\u001b[39m.\u001b[39;49mdynamic_programming(env, horizon);\n",
      "File \u001b[1;32me:\\OneDrive\\Documenten\\GitHub\\Lab-1-Reinforcement-Learning\\maze_l1.py:339\u001b[0m, in \u001b[0;36mdynamic_programming\u001b[1;34m(env, horizon)\u001b[0m\n\u001b[0;32m    336\u001b[0m V[:, T]      \u001b[39m=\u001b[39m np\u001b[39m.\u001b[39mmax(Q, \u001b[39m1\u001b[39m);\n\u001b[0;32m    337\u001b[0m policy[:, T] \u001b[39m=\u001b[39m np\u001b[39m.\u001b[39margmax(Q, \u001b[39m1\u001b[39m);\n\u001b[1;32m--> 339\u001b[0m dimension \u001b[39m=\u001b[39m (maze\u001b[39m.\u001b[39mshape[\u001b[39m0\u001b[39m], maze\u001b[39m.\u001b[39mshape[\u001b[39m1\u001b[39m]);\n\u001b[0;32m    340\u001b[0m df \u001b[39m=\u001b[39m pd\u001b[39m.\u001b[39mDataFrame(np\u001b[39m.\u001b[39mzeros(dimension));\n\u001b[0;32m    341\u001b[0m min_pos \u001b[39m=\u001b[39m (\u001b[39m0\u001b[39m, \u001b[39m2\u001b[39m);\n",
      "\u001b[1;31mNameError\u001b[0m: name 'maze' is not defined"
     ]
    }
   ],
   "source": [
    "# Finite horizon\n",
    "horizon = 30\n",
    "# Solve the MDP problem with dynamic programming \n",
    "V, policy= mz.dynamic_programming(env, horizon);"
   ]
  },
  {
   "cell_type": "code",
   "execution_count": null,
   "metadata": {},
   "outputs": [],
   "source": [
    "import importlib\n",
    "importlib.reload(mz)\n",
    "\n",
    "# Simulate the shortest path starting from position A\n",
    "method = 'DynProg';\n",
    "start  = (0, 0);\n",
    "min_start = (0, 4)\n",
    "path = env.simulate(start, min_start, policy, method);\n"
   ]
  },
  {
   "cell_type": "code",
   "execution_count": null,
   "metadata": {},
   "outputs": [
    {
     "data": {
      "image/png": "[encoded data removed]",
      "text/plain": [
       "<Figure size 700x600 with 1 Axes>"
      ]
     },
     "metadata": {},
     "output_type": "display_data"
    }
   ],
   "source": [
    "# Show the shortest path \n",
    "importlib.reload(mz)\n",
    "\n",
    "mz.animate_solution(maze, path, min_start)"
   ]
  },
  {
   "cell_type": "code",
   "execution_count": null,
   "metadata": {},
   "outputs": [
    {
     "name": "stdout",
     "output_type": "stream",
     "text": [
      " s s X s s s s\n",
      " s s X s s s s\n",
      " s s X > s s s\n",
      " s s < O < s s\n",
      " X X X X X X s\n",
      " s s s s > s <\n",
      "\n"
     ]
    }
   ],
   "source": [
    "importlib.reload(mz)\n",
    "mz.draw_actions_position_minautar(env, policy, maze, (3, 3), horizon)\n"
   ]
  }
 ],
 "metadata": {
  "kernelspec": {
   "display_name": "Python 3",
   "language": "python",
   "name": "python3"
  },
  "language_info": {
   "codemirror_mode": {
    "name": "ipython",
    "version": 3
   },
   "file_extension": ".py",
   "mimetype": "text/x-python",
   "name": "python",
   "nbconvert_exporter": "python",
   "pygments_lexer": "ipython3",
   "version": "3.9.18"
  }
 },
 "nbformat": 4,
 "nbformat_minor": 2
}
