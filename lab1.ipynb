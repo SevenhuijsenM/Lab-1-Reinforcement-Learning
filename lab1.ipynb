{
 "cells": [
  {
   "cell_type": "code",
   "execution_count": 1,
   "metadata": {},
   "outputs": [
    {
     "data": {
      "text/plain": [
       "<module 'maze_l1' from 'g:\\\\Min enhet\\\\Plugg\\\\INDEK\\\\E\\\\EL\\\\EL2805 Reinforcement Learning\\\\Labs\\\\Github\\\\Lab-1-Reinforcement-Learning\\\\maze_l1.py'>"
      ]
     },
     "execution_count": 1,
     "metadata": {},
     "output_type": "execute_result"
    }
   ],
   "source": [
    "import maze_l1 as mz\n",
    "import numpy as np\n",
    "import importlib\n",
    "importlib.reload(mz)"
   ]
  },
  {
   "cell_type": "markdown",
   "metadata": {},
   "source": [
    "## 1a) MDP formulation\n",
    "\n",
    "#### State space $\\mathcal{S}$\n",
    "Within this model there are two objects that are continuously moving. Namely the player and the minotaur. The player can move in any direction (up, down, left, right) or stay in the same position. The minotaur can move in any direction (up, down, left, right). The state space is the set of all possible positions of the player and the minotaur in the maze. Moreover if the player is caught then it is impossible to get any future rewards, or move out of the current position\n",
    "\n",
    "$$\\mathcal{S} = \\big\\lbrace ((i,j), (k,l)):\\textrm{such that the cell\n",
    "} (i,j) \\textrm{ is not an obstacle or (k, l) and (k,l) is not a boundary} \\big\\rbrace | caught.$$\n",
    "\n",
    "#### Action space $\\mathcal{A}$\n",
    "We cannot control the minotaur, but we can control the player. Therefore we have five options: move `left`, `right`, `down`, `up` and `stay`. Just like lab0 we allow the player to move in all directions, and move into a \"wall\", but the state will not change and the reward will be a large negative number to prevent this from happening. \n",
    "\n",
    "$$\\mathcal{A} = \\lbrace \\textrm{up}, \\textrm{ down}, \\textrm{ left}, \\textrm{ right}, \\textrm{ stay} \\rbrace.$$\n",
    "\n",
    "#### Transition probabilities $\\mathcal{P}$\n",
    "\n",
    "- At a state (or position) $s$ taking any action will always lead to a different state (position or caught) $s'$, then $\\mathbb{P}(s' \\vert s, a) = \\frac{1}{m}$. This is due to the minotaur always being able to move and it not going into the walls. Note that it depends on the amount of possible moves for the minotaur, called $m$. If the player is caught then it will always go to the caught state $caught$, then $\\mathbb{P}(s' \\vert caught"
   ]
  },
  {
   "cell_type": "markdown",
   "metadata": {},
   "source": [
    ", a) = 1$.\n",
    "\n",
    "#### Rewards $\\mathcal{R}$\n",
    "The objective of the player is to find the exit of the maze while avoiding the obstacles and the minotaur.    \n",
    "   - If at state $s$, taking action $a$, leads to a wall or an obstacle then $r(s,a) = -\\infty$\n",
    "   - If at state $s$, taking action $a$, leads to the minotaur then $r(s,a) = -\\infty$\n",
    "   - If at state $caught$, taking anny action $a$ lead to $r(caught,a) = -\\infty$\n",
    "   - If at state $s$, taking action $a$, leads to some other position in the maze that is not the exit nor a wall nor an obstacle, then $r(s, a) = -1$. \n",
    "   - If at state $s$, taking action $a$, leads to the exit then $r(s ,a) = 0$. \n"
   ]
  },
  {
   "cell_type": "markdown",
   "metadata": {},
   "source": [
    "## Exercise 1b) difference when the player and the minotaur move asynchronously\n",
    "\n",
    "#### State space $\\mathcal{S}$\n",
    "Within this model there are two objects that are continuously moving. namely the player and the minotaur. The player can move in any direction (up, down, left, right) or stay in the same position. The minotaur can move in any direction (up, down, left, right). Now the player and the minotaur move at alternating times. The state space is the set of all possible positions of the player and the minotaur in the maze.  There is also a state where the player is caught.\n",
    "\n",
    "$$\\mathcal{S} = \\big\\lbrace (i,j):\\textrm{such that the cell\n",
    "} (i,j) \\textrm{ is not an obstacle nor the position of the minotaur }\\big\\rbrace | caught.$$\n",
    "\n",
    "#### Action space $\\mathcal{A}$\n",
    "We cannot control the minotaur, but we can control the player. Therefore we have five options: move `left`, `right`, `down`, `up` and `stay`. Just like lab0 we allow the player to move in all directions, and move into a \"wall\", but the state will not change and the reward will be a large negative number to prevent this from happening. \n",
    "\n",
    "$$\\mathcal{A} = \\lbrace \\textrm{up}, \\textrm{ down}, \\textrm{ left}, \\textrm{ right}, \\textrm{ stay} \\rbrace.$$\n",
    "\n",
    "#### Transition probabilities $\\mathcal{P}$\n",
    "\n",
    "- At a state (or position) $s$ taking any action will always lead to a different state (or position) $s'$, then $\\mathbb{P}(s' \\vert s, a) = 1$. As the player and the minotaur move alternatingly, we can only control the player movement. Therefore any transition to the next state has a probability of 1.\n",
    "\n",
    "#### Rewards $\\mathcal{R}$\n",
    "The objective of the player is to find the exit of the maze while avoiding the obstacles and the minotaur.    \n",
    "   - If at state $s$, taking action $a$, leads to a wall or an obstacle then $r(s,a) = -\\infty$\n",
    "   - If at state $s$, taking action $a$, leads to the minotaur then $r(s,a) = -\\infty$\n",
    "   - If at state $s$, taking action $a$, leads to a place where the minotaur can move in one timestep then $r(s,a) = -\\infty$\n",
    "   - If the player is in state caught then $r(caught,a), then any action $a$ will lead to $r(caught, a) = -\\infty$\n",
    "   - If at state $s$, taking action $a$, leads to some other position in the maze that is not the exit nor a wall nor an obstacle, then $r(s, a) = -1$. \n",
    "   - If at state $s$, taking action $a$, leads to the exit then $r(s ,a) = 0$. \n"
   ]
  },
  {
   "cell_type": "code",
   "execution_count": 22,
   "metadata": {},
   "outputs": [
    {
     "data": {
      "image/png": "[encoded data removed]",
      "text/plain": [
       "<Figure size 640x480 with 1 Axes>"
      ]
     },
     "metadata": {},
     "output_type": "display_data"
    }
   ],
   "source": [
    "\"\"\"This is the maze, where the following numbers correspond to the following objects:\n",
    "0 = empty cell      -> white\n",
    "1 = obstacle        -> black\n",
    "2 = end             -> light purple\n",
    "3 = start           -> light green\n",
    "4 = minotaur        -> light red\n",
    "\"\"\"\n",
    "import importlib\n",
    "importlib.reload(mz)\n",
    "maze = np.array([\n",
    "    [3, 0, 1, 0, 0, 0, 0, 0],\n",
    "    [0, 0, 1, 0, 0, 1, 0, 0],\n",
    "    [0, 0, 1, 0, 0, 1, 1, 1],\n",
    "    [0, 0, 1, 0, 0, 1, 0, 0],\n",
    "    [0, 0, 0, 0, 0, 0, 0, 0],\n",
    "    [0, 1, 1, 1, 1, 1, 1, 0],\n",
    "    [0, 0, 0, 0, 1, 2, 0, 0]\n",
    "])\n",
    "\n",
    "env = mz.Maze(maze)\n",
    "\n",
    "# Draw the maze\n",
    "mz.draw_maze(maze)"
   ]
  },
  {
   "cell_type": "code",
   "execution_count": 23,
   "metadata": {},
   "outputs": [],
   "source": [
    "# Finite horizon\n",
    "horizon = 20\n",
    "\n",
    "# Solve the MDP problem with dynamic programming \n",
    "V, policy= mz.dynamic_programming(env, horizon)"
   ]
  },
  {
   "cell_type": "code",
   "execution_count": null,
   "metadata": {},
   "outputs": [],
   "source": [
    "# Show the shortest path \n",
    "# importlib.reload(mz)\n",
    "\n",
    "# mz.animate_solution(maze, path)"
   ]
  },
  {
   "cell_type": "code",
   "execution_count": null,
   "metadata": {},
   "outputs": [],
   "source": [
    "# Simulate with a static minotaur \n",
    "importlib.reload(mz)\n",
    "\n",
    "method = 'DynProg';\n",
    "starting_position_minotaur = (3, 6)\n",
    "path = env.simulate_solo(policy, method, starting_position_minotaur);\n",
    "\n",
    "mz.animate_solution(maze, path)"
   ]
  },
  {
   "cell_type": "code",
   "execution_count": null,
   "metadata": {},
   "outputs": [],
   "source": [
    "# Simulate with a moving minotaur (randomly)  \n",
    "importlib.reload(mz)\n",
    "path = env.simulate(policy, method)\n",
    "\n",
    "mz.animate_solution(maze, path)"
   ]
  },
  {
   "cell_type": "markdown",
   "metadata": {},
   "source": [
    "## 1d) Probability\n"
   ]
  },
  {
   "cell_type": "code",
   "execution_count": null,
   "metadata": {},
   "outputs": [],
   "source": [
    "# Calculate the probability of reaching the exit starting from position A\n",
    "importlib.reload(mz)\n",
    "\n",
    "horizon = 30\n",
    "maze2 = np.array([\n",
    "    [3, 0, 1, 0, 0, 0, 0, 0],\n",
    "    [0, 0, 1, 0, 0, 1, 0, 0],\n",
    "    [0, 0, 1, 0, 0, 1, 1, 1],\n",
    "    [0, 0, 1, 0, 0, 1, 0, 0],\n",
    "    [0, 0, 0, 0, 0, 0, 0, 0],\n",
    "    [0, 1, 1, 1, 1, 1, 1, 0],\n",
    "    [0, 0, 0, 0, 1, 2, 0, 0]\n",
    "])\n",
    "\n",
    "env = mz.Maze(maze2, False)\n",
    "\n",
    "# Get the policy\n",
    "V, policy = mz.dynamic_programming(env, horizon)\n",
    "prob_history = env.dynamic_programming_probability_exiting(horizon, policy)\n",
    "\n",
    "# Make a plot from the probability history\n",
    "import matplotlib.pyplot as plt\n",
    "plt.plot(prob_history)\n",
    "plt.xlabel('T')\n",
    "plt.ylabel('Probability of exiting the maze')\n"
   ]
  },
  {
   "cell_type": "markdown",
   "metadata": {},
   "source": [
    "## 1d with movement"
   ]
  },
  {
   "cell_type": "code",
   "execution_count": null,
   "metadata": {},
   "outputs": [],
   "source": [
    "# Look at the policy\n",
    "V, policy = mz.dynamic_programming(env, horizon)\n",
    "\n",
    "env.explain_policy(policy, (6, 5))"
   ]
  },
  {
   "cell_type": "code",
   "execution_count": null,
   "metadata": {},
   "outputs": [
    {
     "ename": "",
     "evalue": "",
     "output_type": "error",
     "traceback": [
      "\u001b[1;31mRunning cells with '.venv' requires the ipykernel package.\n",
      "\u001b[1;31mRun the following command to install 'ipykernel' into the Python environment. \n",
      "\u001b[1;31mCommand: '\"g:/Min enhet/Plugg/INDEK/E/EL/EL2805 Reinforcement Learning/Labs/Github/Lab-1-Reinforcement-Learning/.venv/Scripts/python.exe\" -m pip install ipykernel -U --force-reinstall'"
     ]
    }
   ],
   "source": [
    "importlib.reload(mz)\n",
    "env = mz.Maze(maze2, minotaur_stay_enabled = True)\n",
    "    \n",
    "time_horizons = range(1, 31)\n",
    "exit_probabilities = []\n",
    "for T in time_horizons:\n",
    "    # Compute the optimal policy using dynamic programming\\n\",\n",
    "    _, policy = mz.dynamic_programming(env, T)\n",
    "\n",
    "    # Calculate the probability of exiting the maze\\n\",\n",
    "    prob_exit = env.dynamic_programming_probability_exiting2(T, policy)\n",
    "    exit_probabilities.append(prob_exit[-1])  # Last element is the probability at T\n",
    "# Plotting the probabilities\n",
    "plt.figure(figsize=(10, 6))\n",
    "plt.plot(time_horizons, exit_probabilities, marker='o')\n",
    "plt.xlabel('Time Horizon')\n",
    "plt.ylabel('Probability of Exiting')\n",
    "plt.title('Probability of Exiting the Maze vs. Time Horizon')\n",
    "plt.grid(True)\n",
    "plt.show()"
   ]
  },
  {
   "cell_type": "code",
   "execution_count": null,
   "metadata": {},
   "outputs": [],
   "source": [
    "# Simuate a shortest path\n",
    "importlib.reload(mz)\n",
    "method = 'DynProg'\n",
    "path = env.simulate(policy, method)\n",
    "\n",
    "mz.animate_solution(maze, path)\n"
   ]
  },
  {
   "cell_type": "markdown",
   "metadata": {},
   "source": [
    "## 1e - Value iteration"
   ]
  },
  {
   "cell_type": "code",
   "execution_count": null,
   "metadata": {},
   "outputs": [
    {
     "ename": "",
     "evalue": "",
     "output_type": "error",
     "traceback": [
      "\u001b[1;31mRunning cells with '.venv' requires the ipykernel package.\n",
      "\u001b[1;31mRun the following command to install 'ipykernel' into the Python environment. \n",
      "\u001b[1;31mCommand: '\"g:/Min enhet/Plugg/INDEK/E/EL/EL2805 Reinforcement Learning/Labs/Github/Lab-1-Reinforcement-Learning/.venv/Scripts/python.exe\" -m pip install ipykernel -U --force-reinstall'"
     ]
    }
   ],
   "source": [
    "importlib.reload(mz)\n",
    "env = mz.Maze(maze2, False)\n",
    "\n",
    "# Discount Factor\n",
    "gamma   = 0.50\n",
    "\n",
    "# Accuracy treshold\n",
    "epsilon = 0.001\n",
    "\n",
    "# The max number of iterations to run the algorithm\n",
    "max_iter = 30\n",
    "\n",
    "V, policy = mz.value_iteration(env, gamma, epsilon, max_iter)\n",
    "method = 'ValIter'\n",
    "\n",
    "# Simulate with a static minotaur\n",
    "path = env.simulate(policy, method)\n",
    "\n",
    "#Show the shortest path \n",
    "mz.animate_solution(maze, path)"
   ]
  },
  {
   "cell_type": "markdown",
   "metadata": {},
   "source": [
    "## 1f) Simulate 10000 games"
   ]
  },
  {
   "cell_type": "code",
   "execution_count": null,
   "metadata": {},
   "outputs": [],
   "source": [
    "importlib.reload(mz)\n",
    "# Amount of exits\n",
    "exit_n = 0\n",
    "total_n = 0\n",
    "ITERATION_COUNT = 10000\n",
    "\n",
    "# Simulate with a moving minotaur (randomly)\n",
    "for i in range(ITERATION_COUNT):\n",
    "    # Simulate with a static minotaur\n",
    "    path = env.simulate(policy, method)\n",
    "\n",
    "    # If the path ends in the exit, increment the number of exits\n",
    "    if path[-1][0] == (6,5):\n",
    "        exit_n += 1\n",
    "\n",
    "    # Increment the total number of iterations\n",
    "    total_n += 1"
   ]
  },
  {
   "cell_type": "code",
   "execution_count": null,
   "metadata": {},
   "outputs": [],
   "source": [
    "exit_n / total_n\n",
    "\n",
    "print(exit_n)"
   ]
  },
  {
   "attachments": {
    "image-2.png": {
     "image/png": "[encoded data removed]"
    }
   },
   "cell_type": "markdown",
   "metadata": {},
   "source": [
    "1g)\n",
    "\n",
    "What does it mean that a learning method is on-policy or off-policy?\n",
    "On-Policy Learning:\n",
    "On-policy learning methods learn the value of the policy being followed, meaning they evaluate or improve the policy that is used to make decisions. The key characteristic of on-policy methods is that they attempt to evaluate or improve the policy that dictates the agent's actions. An example of an on-policy algorithm is SARSA (State-Action-Reward-State-Action), where the learning process follows the policy the agent is actually executing, and updates are made based on the actions taken by the current policy.\n",
    "\n",
    "Off-Policy Learning:\n",
    "Off-policy methods learn the value of an optimal policy independently of the agent's actions. They evaluate or improve a policy different from the one used to generate the data. This means that the learning algorithm can learn from actions that are outside its current policy, such as from a fixed dataset of experiences, or from the actions chosen by a different policy. A quintessential example of an off-policy method is Q-learning, where the learning process updates its estimates based on the maximum reward of the next state, regardless of the action taken by the current policy.\n",
    "\n",
    "State the convergence conditions for Q-learning and SARSA.\n",
    "\n",
    "Q-learning is guaranteed to converge to the optimal action-value function Q*(s,a), provided the following conditions are met:\n",
    "- The policy has a chance to visit all state-action pairs infinitely often. This is often ensured through adequate exploration, such as using an ε-greedy policy that has a non-zero probability of selecting any action.\n",
    "- The learning rate α follows certain conditions, typically it must decrease over time and satisfy the criteria ![image-2.png](attachment:image-2.png) These conditions ensure that the learning rate is high enough to continue learning indefinitely but decays in such a way that the value function estimates eventually converge.\n",
    "- The environment and the reward function must be stationary, meaning they do not change over time.\n",
    "\n",
    "SARSA also converges to the optimal action-value function under similar conditions as Q-learning:\n",
    "\n",
    "- All state-action pairs must be visited infinitely often, which is usually achieved through sufficient exploration (e.g., ε-greedy approach).\n",
    "- The learning rate α must satisfy the same criteria as for Q-learning, ensuring it decays appropriately over time.\n",
    "- The environment and reward function should be stationary.\n",
    "- Additionally, the policy being followed must also converge to a policy that is greedy with respect to the Q-value estimates. This is because SARSA's updates depend on the policy followed (as it's an on-policy method), and for convergence, this policy must stabilize.\n",
    "\n"
   ]
  },
  {
   "cell_type": "markdown",
   "metadata": {},
   "source": [
    "1h)\n",
    "\n",
    "Altering the State Space:\n",
    "Player's Health: Since the player's life is geometrically distributed with a mean of 50 moves, this suggests a probability of survival from one step to the next. We need to include the player's health as a state component, which decreases with each move.\n",
    "\n",
    "Key Collection: The state must reflect whether the keys have been collected. This can be a binary part of the state (e.g., keys collected or not).\n",
    "\n",
    "Adjusting the Transition Probabilities:\n",
    "Player's Movement: The transition probabilities for the player's movement remain largely the same but should include the reduction of health with each move.\n",
    "Minotaur's Movement: The Minotaur's movement probabilities are modified so that there's a 35% chance it moves toward the player and a 65% chance it moves randomly in any direction. This means that there is a 51.25% chance to move towards the player and a 16.25% chance to move in every other direction.\n",
    "\n",
    "Modifying the Reward Structure:\n",
    "Health Penalty: Introduce a penalty if the player's health reaches zero before exiting.\n",
    "Key Collection Reward: Introduce a reward for collecting the keys, encouraging the policy to direct the player towards them.\n",
    "No reward if exit is reached without the key. "
   ]
  }
 ],
 "metadata": {
  "kernelspec": {
   "display_name": "Python 3",
   "language": "python",
   "name": "python3"
  },
  "language_info": {
   "codemirror_mode": {
    "name": "ipython",
    "version": 3
   },
   "file_extension": ".py",
   "mimetype": "text/x-python",
   "name": "python",
   "nbconvert_exporter": "python",
   "pygments_lexer": "ipython3",
   "version": "3.10.11"
  }
 },
 "nbformat": 4,
 "nbformat_minor": 2
}
