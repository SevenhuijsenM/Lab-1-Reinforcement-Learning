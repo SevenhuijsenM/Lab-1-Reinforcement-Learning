{
 "cells": [
  {
   "cell_type": "code",
   "execution_count": 150,
   "metadata": {},
   "outputs": [
    {
     "data": {
      "text/plain": [
       "<module 'maze_l1' from 'c:\\\\Users\\\\MAL Sevenhuijsen\\\\Documents\\\\School\\\\Master\\\\S4\\\\Reinforcement learning\\\\Lab1\\\\Lab-1-Reinforcement-Learning\\\\maze_l1.py'>"
      ]
     },
     "execution_count": 150,
     "metadata": {},
     "output_type": "execute_result"
    }
   ],
   "source": [
    "import maze_l1 as mz\n",
    "import numpy as np\n",
    "import importlib\n",
    "importlib.reload(mz)"
   ]
  },
  {
   "cell_type": "markdown",
   "metadata": {},
   "source": [
    "## MDP formulation\n",
    "\n",
    "#### State space $\\mathcal{S}$\n",
    "Within this model there are two objects that are continuously moving. Namely the player and the minotaur. The player can move in any direction (up, down, left, right) or stay in the same position. The minotaur can move in any direction (up, down, left, right). The state space is the set of all possible positions of the player and the minotaur in the maze. \n",
    "\n",
    "$$\\mathcal{S} = \\big\\lbrace ((i,j), (k,l)):\\textrm{such that the cell\n",
    "} (i,j) \\textrm{ is not an obstacle and (k,l) is not a boundary}\\big\\rbrace.$$\n",
    "\n",
    "#### Action space $\\mathcal{A}$\n",
    "We cannot control the minotaur, but we can control the player. Therefore we have five options: move `left`, `right`, `down`, `up` and `stay`. Just like lab0 we allow the player to move in all directions, and move into a \"wall\", but the state will not change and the reward will be a large negative number to prevent this from happening. \n",
    "\n",
    "$$\\mathcal{A} = \\lbrace \\textrm{up}, \\textrm{ down}, \\textrm{ left}, \\textrm{ right}, \\textrm{ stay} \\rbrace.$$\n",
    "\n",
    "#### Transition probabilities $\\mathcal{P}$\n",
    "\n",
    "- At a state (or position) $s$ taking any action will always lead to a different state (or position) $s'$, then $\\mathbb{P}(s' \\vert s, a) = \\frac{1}{m}$. This is due to the minotaur always being able to move and it not going into the walls. Note that it depends on the amount of possible moves for the minotaur, called $m$.\n",
    "\n",
    "#### Rewards $\\mathcal{R}$\n",
    "The objective of the player is to find the exit of the maze while avoiding the obstacles and the minotaur.    \n",
    "   - If at state $s$, taking action $a$, leads to a wall or an obstacle then $r(s,a) = -\\infty$\n",
    "   - If at state $s$, taking action $a$, leads to the minotaur then $r(s,a) = -\\infty$\n",
    "   - If at state $s$, taking action $a$, leads to some other position in the maze that is not the exit nor a wall nor an obstacle, then $r(s, a) = -1$. \n",
    "   - If at state $s$, taking action $a$, leads to the exit then $r(s ,a) = 0$. \n"
   ]
  },
  {
   "cell_type": "code",
   "execution_count": 151,
   "metadata": {},
   "outputs": [
    {
     "data": {
      "image/png": "[encoded data removed]",
      "text/plain": [
       "<Figure size 300x300 with 1 Axes>"
      ]
     },
     "metadata": {},
     "output_type": "display_data"
    }
   ],
   "source": [
    "# maze = np.array([\n",
    "#     [0, 0, 1, 0, 0, 0, 0],\n",
    "#     [0, 0, 1, 0, 0, 0, 0],\n",
    "#     [0, 0, 1, 0, 0, 0, 0],\n",
    "#     [0, 0, 0, 0, 0, 0, 0],\n",
    "#     [1, 1, 1, 1, 1, 1, 0],\n",
    "#     [0, 0, 0, 0, 0, 2, 0]\n",
    "# ])\n",
    "\n",
    "maze = np.array([\n",
    "    [0, 0, 0],\n",
    "    [0, 1, 0],\n",
    "    [0, 0, 2]\n",
    "])\n",
    "\n",
    "env = mz.Maze(maze)\n",
    "mz.draw_maze(maze)"
   ]
  },
  {
   "cell_type": "code",
   "execution_count": 152,
   "metadata": {},
   "outputs": [],
   "source": [
    "# Finite horizon\n",
    "horizon = 20\n",
    "# Solve the MDP problem with dynamic programming \n",
    "V, policy= mz.dynamic_programming(env, horizon);"
   ]
  },
  {
   "cell_type": "code",
   "execution_count": 153,
   "metadata": {},
   "outputs": [],
   "source": [
    "import importlib\n",
    "importlib.reload(mz)\n",
    "\n",
    "# Simulate the shortest path starting from position A\n",
    "method = 'DynProg';\n",
    "start  = (0, 0);\n",
    "min_start = (2, 0)\n",
    "path = env.simulate(start, min_start, policy, method);\n"
   ]
  },
  {
   "cell_type": "code",
   "execution_count": 154,
   "metadata": {},
   "outputs": [
    {
     "data": {
      "image/png": "[encoded data removed]",
      "text/plain": [
       "<Figure size 300x300 with 1 Axes>"
      ]
     },
     "metadata": {},
     "output_type": "display_data"
    }
   ],
   "source": [
    "# Show the shortest path \n",
    "importlib.reload(mz)\n",
    "\n",
    "mz.animate_solution(maze, path, min_start)"
   ]
  },
  {
   "cell_type": "code",
   "execution_count": null,
   "metadata": {},
   "outputs": [
    {
     "name": "stdout",
     "output_type": "stream",
     "text": [
      "T :  9\n",
      "     0    1    2\n",
      "0 -2.0 -2.0 -1.5\n",
      "1 -2.0  0.0 -0.5\n",
      "2 -2.0 -0.5 -0.5\n",
      "T :  8\n",
      "     0    1    2\n",
      "0 -3.0 -2.0 -1.5\n",
      "1 -2.0  0.0 -0.5\n",
      "2 -2.0 -0.5 -0.5\n",
      "T :  7\n",
      "          0    1    2\n",
      "0 -3.666667 -2.5 -2.0\n",
      "1 -2.500000  0.0 -1.0\n",
      "2 -2.500000 -1.0 -1.0\n",
      "T :  6\n",
      "          0    1    2\n",
      "0 -3.666667 -2.5 -2.0\n",
      "1 -2.500000  0.0 -1.0\n",
      "2 -2.500000 -1.0 -1.0\n",
      "T :  5\n",
      "          0    1    2\n",
      "0 -4.166667 -3.0 -2.5\n",
      "1 -3.000000  0.0 -1.5\n",
      "2 -3.000000 -1.5 -1.5\n",
      "T :  4\n",
      "          0    1    2\n",
      "0 -4.166667 -3.0 -2.5\n",
      "1 -3.000000  0.0 -1.5\n",
      "2 -3.000000 -1.5 -1.5\n",
      "T :  3\n",
      "          0    1    2\n",
      "0 -4.666667 -3.5 -3.0\n",
      "1 -3.500000  0.0 -2.0\n",
      "2 -3.500000 -2.0 -2.0\n",
      "T :  2\n",
      "          0    1    2\n",
      "0 -4.666667 -3.5 -3.0\n",
      "1 -3.500000  0.0 -2.0\n",
      "2 -3.500000 -2.0 -2.0\n",
      "T :  1\n",
      "          0    1    2\n",
      "0 -5.166667 -4.0 -3.5\n",
      "1 -4.000000  0.0 -2.5\n",
      "2 -4.000000 -2.5 -2.5\n",
      "T :  0\n",
      "          0    1    2\n",
      "0 -5.166667 -4.0 -3.5\n",
      "1 -4.000000  0.0 -2.5\n",
      "2 -4.000000 -2.5 -2.5\n",
      " s s O\n",
      " s X s\n",
      " s s s\n",
      "\n"
     ]
    }
   ],
   "source": [
    "importlib.reload(mz)\n",
    "mz.draw_actions_position_minautar(env, policy, maze, min_start, 0 )\n"
   ]
  },
  {
   "cell_type": "code",
   "execution_count": null,
   "metadata": {},
   "outputs": [
    {
     "name": "stdout",
     "output_type": "stream",
     "text": [
      "((0, 0), (0, 2))\n",
      "((0, 0), (0, 2))\n",
      "((0, 0), (0, 2))\n",
      "((0, 0), (0, 2))\n",
      "((0, 0), (0, 2))\n",
      "((0, 0), (0, 2))\n",
      "((0, 0), (0, 2))\n",
      "((0, 0), (0, 2))\n",
      "((0, 0), (0, 2))\n",
      "((0, 0), (0, 2))\n",
      "((0, 0), (0, 2))\n",
      "((0, 0), (0, 2))\n",
      "((0, 0), (0, 2))\n",
      "((0, 0), (0, 2))\n",
      "((0, 0), (0, 2))\n",
      "((0, 0), (0, 2))\n",
      "((0, 0), (0, 2))\n",
      "((0, 0), (0, 2))\n",
      "((0, 0), (0, 2))\n",
      "((0, 0), (0, 2))\n",
      "((0, 0), (0, 2))\n"
     ]
    }
   ],
   "source": [
    "for i in path:\n",
    "    print(i)"
   ]
  }
 ],
 "metadata": {
  "kernelspec": {
   "display_name": "Python 3",
   "language": "python",
   "name": "python3"
  },
  "language_info": {
   "codemirror_mode": {
    "name": "ipython",
    "version": 3
   },
   "file_extension": ".py",
   "mimetype": "text/x-python",
   "name": "python",
   "nbconvert_exporter": "python",
   "pygments_lexer": "ipython3",
   "version": "3.10.11"
  }
 },
 "nbformat": 4,
 "nbformat_minor": 2
}
