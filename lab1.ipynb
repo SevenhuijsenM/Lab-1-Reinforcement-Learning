{
 "cells": [
  {
   "cell_type": "code",
   "execution_count": 20,
   "metadata": {},
   "outputs": [],
   "source": [
    "import maze_l1 as mz\n",
    "import numpy as np"
   ]
  },
  {
   "cell_type": "markdown",
   "metadata": {},
   "source": [
    "## MDP formulation\n",
    "\n",
    "#### State space $\\mathcal{S}$\n",
    "Within this model there are two objects that are continuously moving. Namely the player and the minotaur. The player can move in any direction (up, down, left, right) or stay in the same position. The minotaur can move in any direction (up, down, left, right). The state space is the set of all possible positions of the player and the minotaur in the maze. \n",
    "\n",
    "$$\\mathcal{S} = \\big\\lbrace ((i,j), (k,l)):\\textrm{such that the cell\n",
    "} (i,j) \\textrm{ is not an obstacle and (k,l) is not a boundary}\\big\\rbrace.$$\n",
    "\n",
    "#### Action space $\\mathcal{A}$\n",
    "We cannot control the minotaur, but we can control the player. Therefore we have five options: move `left`, `right`, `down`, `up` and `stay`. Just like lab0 we allow the player to move in all directions, and move into a \"wall\", but the state will not change and the reward will be a large negative number to prevent this from happening. \n",
    "\n",
    "$$\\mathcal{A} = \\lbrace \\textrm{up}, \\textrm{ down}, \\textrm{ left}, \\textrm{ right}, \\textrm{ stay} \\rbrace.$$\n",
    "\n",
    "#### Transition probabilities $\\mathcal{P}$\n",
    "\n",
    "- At a state (or position) $s$ taking any action will always lead to a different state (or position) $s'$, then $\\mathbb{P}(s' \\vert s, a) = \\frac{1}{m}$. This is due to the minotaur always being able to move and it not going into the walls. Note that it depends on the amount of possible moves for the minotaur, called $m$.\n",
    "\n",
    "#### Rewards $\\mathcal{R}$\n",
    "The objective of the player is to find the exit of the maze while avoiding the obstacles and the minotaur.    \n",
    "   - If at state $s$, taking action $a$, leads to a wall or an obstacle then $r(s,a) = -\\infty$\n",
    "   - If at state $s$, taking action $a$, leads to the minotaur then $r(s,a) = -\\infty$\n",
    "   - If at state $s$, taking action $a$, leads to some other position in the maze that is not the exit nor a wall nor an obstacle, then $r(s, a) = -1$. \n",
    "   - If at state $s$, taking action $a$, leads to the exit then $r(s ,a) = 0$. \n"
   ]
  },
  {
   "cell_type": "code",
   "execution_count": 21,
   "metadata": {},
   "outputs": [
    {
     "data": {
      "image/png": "[encoded data removed]",
      "text/plain": [
       "<Figure size 700x600 with 1 Axes>"
      ]
     },
     "metadata": {},
     "output_type": "display_data"
    }
   ],
   "source": [
    "maze = np.array([\n",
    "    [0, 0, 1, 0, 0, 0, 0],\n",
    "    [0, 0, 1, 0, 0, 0, 0],\n",
    "    [0, 0, 1, 0, 0, 0, 0],\n",
    "    [0, 0, 0, 0, 0, 0, 0],\n",
    "    [1, 1, 1, 1, 1, 1, 0],\n",
    "    [0, 0, 0, 0, 0, 2, 0]\n",
    "])\n",
    "\n",
    "env = mz.Maze(maze)\n",
    "mz.draw_maze(maze)"
   ]
  },
  {
   "cell_type": "code",
   "execution_count": 49,
   "metadata": {},
   "outputs": [
    {
     "name": "stdout",
     "output_type": "stream",
     "text": [
      "[0. 2. 4. ... 0. 1. 0.]\n",
      "[0. 2. 4. ... 0. 1. 0.]\n",
      "[0. 2. 4. ... 0. 1. 0.]\n",
      "[0. 2. 4. ... 0. 1. 0.]\n",
      "[0. 2. 4. ... 0. 1. 0.]\n",
      "[0. 2. 4. ... 0. 1. 0.]\n",
      "[0. 2. 4. ... 0. 1. 0.]\n",
      "[0. 2. 4. ... 0. 1. 0.]\n",
      "[0. 2. 4. ... 0. 1. 0.]\n",
      "[0. 2. 4. ... 0. 1. 0.]\n",
      "[0. 2. 4. ... 0. 1. 0.]\n",
      "[0. 2. 4. ... 0. 1. 0.]\n",
      "[0. 2. 4. ... 0. 1. 0.]\n",
      "[0. 2. 4. ... 0. 1. 0.]\n",
      "[0. 2. 4. ... 0. 1. 0.]\n",
      "[0. 2. 4. ... 0. 1. 0.]\n",
      "[0. 2. 4. ... 0. 1. 0.]\n",
      "[0. 2. 4. ... 0. 1. 0.]\n",
      "[0. 2. 4. ... 0. 1. 0.]\n",
      "[0. 2. 4. ... 0. 1. 0.]\n",
      "[0. 2. 4. ... 0. 1. 0.]\n",
      "[0. 2. 4. ... 0. 1. 0.]\n",
      "[0. 2. 4. ... 0. 1. 0.]\n",
      "[0. 2. 4. ... 0. 1. 0.]\n",
      "[0. 2. 4. ... 0. 1. 0.]\n",
      "[0. 2. 4. ... 0. 1. 0.]\n",
      "[0. 2. 4. ... 0. 1. 0.]\n",
      "[0. 2. 4. ... 0. 1. 0.]\n",
      "[0. 2. 4. ... 0. 1. 0.]\n",
      "[0. 2. 4. ... 0. 1. 0.]\n"
     ]
    }
   ],
   "source": [
    "# Finite horizon\n",
    "horizon = 30\n",
    "# Solve the MDP problem with dynamic programming \n",
    "V, policy= mz.dynamic_programming(env, horizon);"
   ]
  },
  {
   "cell_type": "code",
   "execution_count": 48,
   "metadata": {},
   "outputs": [],
   "source": [
    "import importlib\n",
    "importlib.reload(mz)\n",
    "\n",
    "# Simulate the shortest path starting from position A\n",
    "method = 'DynProg';\n",
    "start  = (0, 0);\n",
    "min_start = (0, 4)\n",
    "path = env.simulate(start, min_start, policy, method);\n"
   ]
  },
  {
   "cell_type": "code",
   "execution_count": 51,
   "metadata": {},
   "outputs": [
    {
     "data": {
      "image/png": "[encoded data removed]",
      "text/plain": [
       "<Figure size 700x600 with 1 Axes>"
      ]
     },
     "metadata": {},
     "output_type": "display_data"
    }
   ],
   "source": [
    "# Show the shortest path \n",
    "importlib.reload(mz)\n",
    "\n",
    "mz.animate_solution(maze, path, min_start)"
   ]
  },
  {
   "cell_type": "code",
   "execution_count": 62,
   "metadata": {},
   "outputs": [
    {
     "name": "stdout",
     "output_type": "stream",
     "text": [
      " > < X > v v <\n",
      " > < X > s s <\n",
      " > < X > s s <\n",
      " > ^ < O ^ ^ <\n",
      " X X X X X X ^\n",
      " > s s < s s <\n",
      "\n"
     ]
    }
   ],
   "source": [
    "importlib.reload(mz)\n",
    "mz.draw_actions_position_minautar(env, policy, maze, (3, 3), horizon)\n"
   ]
  }
 ],
 "metadata": {
  "kernelspec": {
   "display_name": "Python 3",
   "language": "python",
   "name": "python3"
  },
  "language_info": {
   "codemirror_mode": {
    "name": "ipython",
    "version": 3
   },
   "file_extension": ".py",
   "mimetype": "text/x-python",
   "name": "python",
   "nbconvert_exporter": "python",
   "pygments_lexer": "ipython3",
   "version": "3.9.18"
  }
 },
 "nbformat": 4,
 "nbformat_minor": 2
}
